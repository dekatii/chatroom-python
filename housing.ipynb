{
 "cells": [
  {
   "cell_type": "code",
   "execution_count": 1,
   "id": "add9bd48-6536-4858-92cd-21382d70403b",
   "metadata": {},
   "outputs": [],
   "source": [
    "import numpy as np \n",
    "import pandas as pd \n",
    "import matplotlib as plt \n",
    "import seaborn as sns\n",
    "import sklearn "
   ]
  },
  {
   "cell_type": "code",
   "execution_count": 2,
   "id": "bd34d443-cb04-4012-9bae-18cacb471144",
   "metadata": {
    "scrolled": true
   },
   "outputs": [],
   "source": [
    "df = pd.read_csv(\"housing.csv\")"
   ]
  },
  {
   "cell_type": "code",
   "execution_count": 3,
   "id": "6eb7efab-4fc1-499b-92b5-46841b475e08",
   "metadata": {},
   "outputs": [
    {
     "data": {
      "text/html": [
       "<div>\n",
       "<style scoped>\n",
       "    .dataframe tbody tr th:only-of-type {\n",
       "        vertical-align: middle;\n",
       "    }\n",
       "\n",
       "    .dataframe tbody tr th {\n",
       "        vertical-align: top;\n",
       "    }\n",
       "\n",
       "    .dataframe thead th {\n",
       "        text-align: right;\n",
       "    }\n",
       "</style>\n",
       "<table border=\"1\" class=\"dataframe\">\n",
       "  <thead>\n",
       "    <tr style=\"text-align: right;\">\n",
       "      <th></th>\n",
       "      <th>longitude</th>\n",
       "      <th>latitude</th>\n",
       "      <th>housing_median_age</th>\n",
       "      <th>total_rooms</th>\n",
       "      <th>total_bedrooms</th>\n",
       "      <th>population</th>\n",
       "      <th>households</th>\n",
       "      <th>median_income</th>\n",
       "      <th>median_house_value</th>\n",
       "      <th>ocean_proximity</th>\n",
       "    </tr>\n",
       "  </thead>\n",
       "  <tbody>\n",
       "    <tr>\n",
       "      <th>0</th>\n",
       "      <td>-122.23</td>\n",
       "      <td>37.88</td>\n",
       "      <td>41.0</td>\n",
       "      <td>880.0</td>\n",
       "      <td>129.0</td>\n",
       "      <td>322.0</td>\n",
       "      <td>126.0</td>\n",
       "      <td>8.3252</td>\n",
       "      <td>452600.0</td>\n",
       "      <td>NEAR BAY</td>\n",
       "    </tr>\n",
       "    <tr>\n",
       "      <th>1</th>\n",
       "      <td>-122.22</td>\n",
       "      <td>37.86</td>\n",
       "      <td>21.0</td>\n",
       "      <td>7099.0</td>\n",
       "      <td>1106.0</td>\n",
       "      <td>2401.0</td>\n",
       "      <td>1138.0</td>\n",
       "      <td>8.3014</td>\n",
       "      <td>358500.0</td>\n",
       "      <td>NEAR BAY</td>\n",
       "    </tr>\n",
       "    <tr>\n",
       "      <th>2</th>\n",
       "      <td>-122.24</td>\n",
       "      <td>37.85</td>\n",
       "      <td>52.0</td>\n",
       "      <td>1467.0</td>\n",
       "      <td>190.0</td>\n",
       "      <td>496.0</td>\n",
       "      <td>177.0</td>\n",
       "      <td>7.2574</td>\n",
       "      <td>352100.0</td>\n",
       "      <td>NEAR BAY</td>\n",
       "    </tr>\n",
       "    <tr>\n",
       "      <th>3</th>\n",
       "      <td>-122.25</td>\n",
       "      <td>37.85</td>\n",
       "      <td>52.0</td>\n",
       "      <td>1274.0</td>\n",
       "      <td>235.0</td>\n",
       "      <td>558.0</td>\n",
       "      <td>219.0</td>\n",
       "      <td>5.6431</td>\n",
       "      <td>341300.0</td>\n",
       "      <td>NEAR BAY</td>\n",
       "    </tr>\n",
       "    <tr>\n",
       "      <th>4</th>\n",
       "      <td>-122.25</td>\n",
       "      <td>37.85</td>\n",
       "      <td>52.0</td>\n",
       "      <td>1627.0</td>\n",
       "      <td>280.0</td>\n",
       "      <td>565.0</td>\n",
       "      <td>259.0</td>\n",
       "      <td>3.8462</td>\n",
       "      <td>342200.0</td>\n",
       "      <td>NEAR BAY</td>\n",
       "    </tr>\n",
       "    <tr>\n",
       "      <th>...</th>\n",
       "      <td>...</td>\n",
       "      <td>...</td>\n",
       "      <td>...</td>\n",
       "      <td>...</td>\n",
       "      <td>...</td>\n",
       "      <td>...</td>\n",
       "      <td>...</td>\n",
       "      <td>...</td>\n",
       "      <td>...</td>\n",
       "      <td>...</td>\n",
       "    </tr>\n",
       "    <tr>\n",
       "      <th>20635</th>\n",
       "      <td>-121.09</td>\n",
       "      <td>39.48</td>\n",
       "      <td>25.0</td>\n",
       "      <td>1665.0</td>\n",
       "      <td>374.0</td>\n",
       "      <td>845.0</td>\n",
       "      <td>330.0</td>\n",
       "      <td>1.5603</td>\n",
       "      <td>78100.0</td>\n",
       "      <td>INLAND</td>\n",
       "    </tr>\n",
       "    <tr>\n",
       "      <th>20636</th>\n",
       "      <td>-121.21</td>\n",
       "      <td>39.49</td>\n",
       "      <td>18.0</td>\n",
       "      <td>697.0</td>\n",
       "      <td>150.0</td>\n",
       "      <td>356.0</td>\n",
       "      <td>114.0</td>\n",
       "      <td>2.5568</td>\n",
       "      <td>77100.0</td>\n",
       "      <td>INLAND</td>\n",
       "    </tr>\n",
       "    <tr>\n",
       "      <th>20637</th>\n",
       "      <td>-121.22</td>\n",
       "      <td>39.43</td>\n",
       "      <td>17.0</td>\n",
       "      <td>2254.0</td>\n",
       "      <td>485.0</td>\n",
       "      <td>1007.0</td>\n",
       "      <td>433.0</td>\n",
       "      <td>1.7000</td>\n",
       "      <td>92300.0</td>\n",
       "      <td>INLAND</td>\n",
       "    </tr>\n",
       "    <tr>\n",
       "      <th>20638</th>\n",
       "      <td>-121.32</td>\n",
       "      <td>39.43</td>\n",
       "      <td>18.0</td>\n",
       "      <td>1860.0</td>\n",
       "      <td>409.0</td>\n",
       "      <td>741.0</td>\n",
       "      <td>349.0</td>\n",
       "      <td>1.8672</td>\n",
       "      <td>84700.0</td>\n",
       "      <td>INLAND</td>\n",
       "    </tr>\n",
       "    <tr>\n",
       "      <th>20639</th>\n",
       "      <td>-121.24</td>\n",
       "      <td>39.37</td>\n",
       "      <td>16.0</td>\n",
       "      <td>2785.0</td>\n",
       "      <td>616.0</td>\n",
       "      <td>1387.0</td>\n",
       "      <td>530.0</td>\n",
       "      <td>2.3886</td>\n",
       "      <td>89400.0</td>\n",
       "      <td>INLAND</td>\n",
       "    </tr>\n",
       "  </tbody>\n",
       "</table>\n",
       "<p>20640 rows × 10 columns</p>\n",
       "</div>"
      ],
      "text/plain": [
       "       longitude  latitude  housing_median_age  total_rooms  total_bedrooms  \\\n",
       "0        -122.23     37.88                41.0        880.0           129.0   \n",
       "1        -122.22     37.86                21.0       7099.0          1106.0   \n",
       "2        -122.24     37.85                52.0       1467.0           190.0   \n",
       "3        -122.25     37.85                52.0       1274.0           235.0   \n",
       "4        -122.25     37.85                52.0       1627.0           280.0   \n",
       "...          ...       ...                 ...          ...             ...   \n",
       "20635    -121.09     39.48                25.0       1665.0           374.0   \n",
       "20636    -121.21     39.49                18.0        697.0           150.0   \n",
       "20637    -121.22     39.43                17.0       2254.0           485.0   \n",
       "20638    -121.32     39.43                18.0       1860.0           409.0   \n",
       "20639    -121.24     39.37                16.0       2785.0           616.0   \n",
       "\n",
       "       population  households  median_income  median_house_value  \\\n",
       "0           322.0       126.0         8.3252            452600.0   \n",
       "1          2401.0      1138.0         8.3014            358500.0   \n",
       "2           496.0       177.0         7.2574            352100.0   \n",
       "3           558.0       219.0         5.6431            341300.0   \n",
       "4           565.0       259.0         3.8462            342200.0   \n",
       "...           ...         ...            ...                 ...   \n",
       "20635       845.0       330.0         1.5603             78100.0   \n",
       "20636       356.0       114.0         2.5568             77100.0   \n",
       "20637      1007.0       433.0         1.7000             92300.0   \n",
       "20638       741.0       349.0         1.8672             84700.0   \n",
       "20639      1387.0       530.0         2.3886             89400.0   \n",
       "\n",
       "      ocean_proximity  \n",
       "0            NEAR BAY  \n",
       "1            NEAR BAY  \n",
       "2            NEAR BAY  \n",
       "3            NEAR BAY  \n",
       "4            NEAR BAY  \n",
       "...               ...  \n",
       "20635          INLAND  \n",
       "20636          INLAND  \n",
       "20637          INLAND  \n",
       "20638          INLAND  \n",
       "20639          INLAND  \n",
       "\n",
       "[20640 rows x 10 columns]"
      ]
     },
     "execution_count": 3,
     "metadata": {},
     "output_type": "execute_result"
    }
   ],
   "source": [
    "df"
   ]
  },
  {
   "cell_type": "code",
   "execution_count": 4,
   "id": "a51f3986-fd62-401e-8157-9f72ea5dc50c",
   "metadata": {},
   "outputs": [],
   "source": [
    "df[\"median_income_categories\"] = pd.cut(df[\"median_income\"],\n",
    "                                        bins=[0.0,1.5,3.0,4.5,6.0,np.inf],\n",
    "                                        labels=[1,2,3,4,5])"
   ]
  },
  {
   "cell_type": "code",
   "execution_count": 5,
   "id": "ef02e1ea-ad3b-4e3e-8a69-08d90de91dae",
   "metadata": {},
   "outputs": [],
   "source": [
    "from sklearn.model_selection import StratifiedShuffleSplit"
   ]
  },
  {
   "cell_type": "code",
   "execution_count": 6,
   "id": "8103393f-9b0d-4911-920c-da381e74b01b",
   "metadata": {},
   "outputs": [],
   "source": [
    "#prepare data"
   ]
  },
  {
   "cell_type": "code",
   "execution_count": 7,
   "id": "745d0261-5525-41b5-9159-e9648690594b",
   "metadata": {},
   "outputs": [],
   "source": [
    "sss = StratifiedShuffleSplit(n_splits=10, test_size=0.2, random_state=40)\n",
    "stratified_split=[]\n",
    "for train_i , test_i in sss.split(df,df[\"median_income_categories\"]):\n",
    "    stratified_train_set_n=df.iloc[train_i]\n",
    "    stratified_test_set_n=df.iloc[test_i]\n",
    "    stratified_split.append([stratified_train_set_n, stratified_test_set_n])"
   ]
  },
  {
   "cell_type": "code",
   "execution_count": 8,
   "id": "27ce436c-18a3-48be-975a-ea67daf0f287",
   "metadata": {},
   "outputs": [],
   "source": [
    "str_train_set = stratified_train_set_n.drop(\"median_income_categories\",axis=1)\n",
    "str_test_set = stratified_test_set_n.drop(\"median_income_categories\",axis=1)"
   ]
  },
  {
   "cell_type": "code",
   "execution_count": 9,
   "id": "1e5d2d93-3cfe-4892-b739-36a396120723",
   "metadata": {},
   "outputs": [],
   "source": [
    "train = str_train_set"
   ]
  },
  {
   "cell_type": "code",
   "execution_count": 10,
   "id": "34b3b6ef-019f-496c-b956-200b54646025",
   "metadata": {},
   "outputs": [
    {
     "ename": "NameError",
     "evalue": "name 'test_data' is not defined",
     "output_type": "error",
     "traceback": [
      "\u001b[0;31m---------------------------------------------------------------------------\u001b[0m",
      "\u001b[0;31mNameError\u001b[0m                                 Traceback (most recent call last)",
      "Cell \u001b[0;32mIn[10], line 4\u001b[0m\n\u001b[1;32m      1\u001b[0m train_features \u001b[38;5;241m=\u001b[39m train\u001b[38;5;241m.\u001b[39mdrop(\u001b[38;5;124m\"\u001b[39m\u001b[38;5;124mmedian_house_value\u001b[39m\u001b[38;5;124m\"\u001b[39m,axis\u001b[38;5;241m=\u001b[39m\u001b[38;5;241m1\u001b[39m)\n\u001b[1;32m      2\u001b[0m train_target \u001b[38;5;241m=\u001b[39m train[\u001b[38;5;124m\"\u001b[39m\u001b[38;5;124mmedian_house_value\u001b[39m\u001b[38;5;124m\"\u001b[39m]\n\u001b[0;32m----> 4\u001b[0m test_features \u001b[38;5;241m=\u001b[39m test_data\u001b[38;5;241m.\u001b[39mdrop(\u001b[38;5;124m\"\u001b[39m\u001b[38;5;124mmedian_house_value\u001b[39m\u001b[38;5;124m\"\u001b[39m,axis\u001b[38;5;241m=\u001b[39m\u001b[38;5;241m1\u001b[39m)\n\u001b[1;32m      5\u001b[0m test_target \u001b[38;5;241m=\u001b[39m test_data[\u001b[38;5;124m\"\u001b[39m\u001b[38;5;124mmedian_house_value\u001b[39m\u001b[38;5;124m\"\u001b[39m]\n",
      "\u001b[0;31mNameError\u001b[0m: name 'test_data' is not defined"
     ]
    }
   ],
   "source": [
    "train_features = train.drop(\"median_house_value\",axis=1)\n",
    "train_target = train[\"median_house_value\"]\n",
    "\n",
    "test_features = test_data.drop(\"median_house_value\",axis=1)\n",
    "test_target = test_data[\"median_house_value\"]"
   ]
  },
  {
   "cell_type": "code",
   "execution_count": null,
   "id": "9ed0877a-cbf3-499b-908c-26dbbfb8b5d3",
   "metadata": {},
   "outputs": [],
   "source": [
    "#data cleaning"
   ]
  },
  {
   "cell_type": "code",
   "execution_count": null,
   "id": "38974791-f6fa-45fd-9c6d-bf5e71ead79e",
   "metadata": {},
   "outputs": [],
   "source": [
    "train_features.info()"
   ]
  },
  {
   "cell_type": "code",
   "execution_count": null,
   "id": "3fba65af-4935-4e19-97d2-f38c95a6bebf",
   "metadata": {},
   "outputs": [],
   "source": [
    "from sklearn.pipeline import Pipeline\n",
    "from sklearn.impute import SimpleImputer\n",
    "from sklearn.preprocessing import MinMaxScaler"
   ]
  },
  {
   "cell_type": "code",
   "execution_count": null,
   "id": "3b692441-2553-424f-b8dc-dc86bea30816",
   "metadata": {},
   "outputs": [],
   "source": [
    "simple_imputer = SimpleImputer(strategy=\"median\")"
   ]
  },
  {
   "cell_type": "code",
   "execution_count": null,
   "id": "de4d72e2-f3ef-43ac-8cc4-163fff8c02e5",
   "metadata": {},
   "outputs": [],
   "source": [
    "train_features_numeric = train_features.select_dtypes(include=[np.number])\n",
    "train_features_numeric.info()"
   ]
  },
  {
   "cell_type": "code",
   "execution_count": null,
   "id": "ad23090c-f6cf-4807-a7d3-c26d4e701d73",
   "metadata": {},
   "outputs": [],
   "source": [
    "simple_imputer.fit(train_features_numeric)"
   ]
  },
  {
   "cell_type": "code",
   "execution_count": null,
   "id": "08773ba8-0c7f-480d-a26c-44e91f5b5289",
   "metadata": {},
   "outputs": [],
   "source": [
    "simple_imputer.statistics_"
   ]
  },
  {
   "cell_type": "code",
   "execution_count": null,
   "id": "ebd3cf3c-250c-456d-b033-e03da6299ee9",
   "metadata": {},
   "outputs": [],
   "source": [
    "simple_imputer.transform(train_features_numeric).shape"
   ]
  },
  {
   "cell_type": "code",
   "execution_count": null,
   "id": "4212dce9-e89a-4856-ac00-5acb1e0a7954",
   "metadata": {},
   "outputs": [],
   "source": [
    "train_features_numeric = pd.DataFrame(simple_imputer.transform(train_features_numeric),\n",
    "                                      columns = train_features_numeric.columns,\n",
    "                                      index = train_features_numeric.index)"
   ]
  },
  {
   "cell_type": "code",
   "execution_count": null,
   "id": "d3639b90-1ec8-4222-a8d7-ab8b60e82c1b",
   "metadata": {},
   "outputs": [],
   "source": [
    "train_features_numeric.info()"
   ]
  },
  {
   "cell_type": "code",
   "execution_count": null,
   "id": "98311b26-c96b-43f7-99cd-a49ec451a7fd",
   "metadata": {},
   "outputs": [],
   "source": [
    "#pipe lines"
   ]
  },
  {
   "cell_type": "code",
   "execution_count": null,
   "id": "a68f4941-5e3b-40d1-9ff2-eb6ed62c2b05",
   "metadata": {},
   "outputs": [],
   "source": [
    "numerical_features_pipeline = Pipeline([\n",
    "    (\"medianImputer\", SimpleImputer(strategy=\"median\")),\n",
    "    (\"minMaxscaler\", MinMaxScaler())\n",
    "])"
   ]
  },
  {
   "cell_type": "code",
   "execution_count": null,
   "id": "f8f19461-b63e-4e7a-9237-cb719c1a5b82",
   "metadata": {},
   "outputs": [],
   "source": [
    "numerical_features_pipeline.fit_transform(train_features_numeric)"
   ]
  },
  {
   "cell_type": "code",
   "execution_count": null,
   "id": "215a8308-2311-495b-9e7c-b46a98f5a471",
   "metadata": {},
   "outputs": [],
   "source": [
    "from sklearn.compose import ColumnTransformer"
   ]
  },
  {
   "cell_type": "code",
   "execution_count": null,
   "id": "dd57b92d-3d1a-4153-9f89-9351c7d7aa8d",
   "metadata": {},
   "outputs": [],
   "source": [
    "numerical_features = list(train_features.columns)\n",
    "numerical_features.remove(\"ocean_proximity\")\n",
    "numerical_features"
   ]
  },
  {
   "cell_type": "code",
   "execution_count": null,
   "id": "22ba8e9a-54e7-44e0-97c9-8ceac47af5ed",
   "metadata": {},
   "outputs": [],
   "source": [
    "list(train_features.columns)"
   ]
  },
  {
   "cell_type": "code",
   "execution_count": null,
   "id": "275b16bd-cf45-4373-a7a9-669f06fd651f",
   "metadata": {},
   "outputs": [],
   "source": [
    "categorical_features=[\"ocean_proximity\"]"
   ]
  },
  {
   "cell_type": "code",
   "execution_count": null,
   "id": "c56eeea1-d4ce-4478-b06d-bb2e5317cbb7",
   "metadata": {},
   "outputs": [],
   "source": [
    "from sklearn.preprocessing import OneHotEncoder"
   ]
  },
  {
   "cell_type": "code",
   "execution_count": null,
   "id": "48eb1da6-d952-4b8e-9e83-cbb230e751f3",
   "metadata": {},
   "outputs": [],
   "source": [
    "categorical_features_pipeline = Pipeline([\n",
    "    (\"mfImputer\", SimpleImputer(strategy=\"most_frequent\")),\n",
    "    (\"ohe\",OneHotEncoder())\n",
    "])"
   ]
  },
  {
   "cell_type": "code",
   "execution_count": null,
   "id": "f5045e4b-c5ba-4ec9-9cd7-e0a746b40082",
   "metadata": {},
   "outputs": [],
   "source": [
    "numerical_features_pipeline = Pipeline([\n",
    "    (\"medianImputer\", SimpleImputer(strategy=\"median\")),\n",
    "    (\"minMaxscaler\", MinMaxScaler())\n",
    "])"
   ]
  },
  {
   "cell_type": "code",
   "execution_count": null,
   "id": "5d248d81-24c5-4394-a70c-022fe8337a39",
   "metadata": {},
   "outputs": [],
   "source": [
    "total_transformation = ColumnTransformer([\n",
    "    (\"numerical\", numerical_features_pipeline, numerical_features),\n",
    "    (\"categorical\", categorical_features_pipeline, categorical_features)\n",
    "])"
   ]
  },
  {
   "cell_type": "code",
   "execution_count": null,
   "id": "19a47d5b-9139-4861-8d0f-88ca0f8c0941",
   "metadata": {},
   "outputs": [],
   "source": [
    "total_transformation.fit_transform(train_features)"
   ]
  },
  {
   "cell_type": "code",
   "execution_count": null,
   "id": "98ca2690-2cb5-48a2-8dfd-7cba2a44ac8d",
   "metadata": {},
   "outputs": [],
   "source": [
    "#all of the transformations"
   ]
  },
  {
   "cell_type": "code",
   "execution_count": null,
   "id": "7134f7f3-da46-4877-8d79-7faf39af0fe7",
   "metadata": {},
   "outputs": [],
   "source": [
    "from sklearn.model_selection import train_test_split"
   ]
  },
  {
   "cell_type": "code",
   "execution_count": null,
   "id": "e434786f-db62-490a-a065-38dd04f9bdb9",
   "metadata": {},
   "outputs": [],
   "source": [
    "train_data,test_data = train_test_split(df,\n",
    "                                        test_size=0.2,\n",
    "                                        stratify=df[\"median_income_categories\"],\n",
    "                                        random_state=40)"
   ]
  },
  {
   "cell_type": "code",
   "execution_count": null,
   "id": "ce517de3-a1e0-407b-9f08-bde5d62e6c2c",
   "metadata": {},
   "outputs": [],
   "source": [
    "train_data = train_data.drop(columns=\"median_income_categories\")"
   ]
  },
  {
   "cell_type": "code",
   "execution_count": null,
   "id": "bdc48faa-8607-4439-af8f-dde64d98046d",
   "metadata": {},
   "outputs": [],
   "source": [
    "test_data = test_data.drop(columns=\"median_income_categories\")"
   ]
  },
  {
   "cell_type": "code",
   "execution_count": null,
   "id": "14b531bf-2e5b-40dc-9557-a36999be0f38",
   "metadata": {},
   "outputs": [],
   "source": [
    "from sklearn.pipeline import make_pipeline\n",
    "from sklearn.preprocessing import FunctionTransformer\n",
    "from sklearn.preprocessing import StandardScaler\n"
   ]
  },
  {
   "cell_type": "code",
   "execution_count": null,
   "id": "72b76dd1-97c4-47b6-8737-27b08552302d",
   "metadata": {},
   "outputs": [],
   "source": [
    "heavy_tale_pipeline = make_pipeline(\n",
    "    SimpleImputer(strategy=\"median\"),\n",
    "    FunctionTransformer(np.log, feature_names_out=\"one_to_one\"),\n",
    "    StandardScaler()\n",
    ")\n",
    "    "
   ]
  },
  {
   "cell_type": "code",
   "execution_count": null,
   "id": "0b3d9715-a825-4d97-81fc-cfe7908419c4",
   "metadata": {},
   "outputs": [],
   "source": []
  }
 ],
 "metadata": {
  "kernelspec": {
   "display_name": "Python [conda env:base] *",
   "language": "python",
   "name": "conda-base-py"
  },
  "language_info": {
   "codemirror_mode": {
    "name": "ipython",
    "version": 3
   },
   "file_extension": ".py",
   "mimetype": "text/x-python",
   "name": "python",
   "nbconvert_exporter": "python",
   "pygments_lexer": "ipython3",
   "version": "3.13.5"
  }
 },
 "nbformat": 4,
 "nbformat_minor": 5
}
